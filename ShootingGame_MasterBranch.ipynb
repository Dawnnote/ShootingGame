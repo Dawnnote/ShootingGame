{
 "cells": [
  {
   "cell_type": "code",
   "execution_count": null,
   "id": "97b5c31e",
   "metadata": {},
   "outputs": [],
   "source": [
    "import pygame\n",
    "import sys\n",
    "import random\n",
    "from time import sleep\n"
   ]
  },
  {
   "cell_type": "code",
   "execution_count": null,
   "id": "83f80ca6",
   "metadata": {},
   "outputs": [],
   "source": [
    "BLACK=(0,0,0)\n",
    "padWidth = 480  #게임화면 크기\n",
    "padHeight = 640 "
   ]
  },
  {
   "cell_type": "code",
   "execution_count": null,
   "id": "c086a848",
   "metadata": {},
   "outputs": [],
   "source": [
    "def initGame():\n",
    "    global gamePad, clock, background, fighter, missile, explosion, missileSound, gameOverSound"
   ]
  },
  {
   "cell_type": "code",
   "execution_count": null,
   "id": "cb43b9a1",
   "metadata": {},
   "outputs": [],
   "source": [
    "def runGame():\n",
    "    global gamepad, clock, background, fighter, missile, explosion, missileSound"
   ]
  },
  {
   "cell_type": "code",
   "execution_count": null,
   "id": "987fbec9",
   "metadata": {},
   "outputs": [],
   "source": [
    "def drawObject(obj, x, y):\n",
    "    global gamePad"
   ]
  },
  {
   "cell_type": "code",
   "execution_count": null,
   "id": "a0358482",
   "metadata": {},
   "outputs": [],
   "source": [
    "# 운석을 맞춘 개수 계산\n",
    "def writeScore(count):\n",
    "    global gamePad"
   ]
  },
  {
   "cell_type": "code",
   "execution_count": null,
   "id": "a4a78760",
   "metadata": {},
   "outputs": [],
   "source": [
    "# 운석이 화면 아래로 통과한 개수\n",
    "def writePassed(count):\n",
    "    global gamePad"
   ]
  },
  {
   "cell_type": "code",
   "execution_count": null,
   "id": "c6e143dc",
   "metadata": {},
   "outputs": [],
   "source": [
    "# 게임 메시지 출력\n",
    "def writeMessage(text):\n",
    "    global gamePad, gameOverSound"
   ]
  },
  {
   "cell_type": "code",
   "execution_count": null,
   "id": "031c1cfe",
   "metadata": {},
   "outputs": [],
   "source": [
    "# 전투기가 운석과 충돌했을 때 메시지 출력\n",
    "def crash():\n",
    "    global gamePad"
   ]
  },
  {
   "cell_type": "code",
   "execution_count": null,
   "id": "591b963b",
   "metadata": {},
   "outputs": [],
   "source": [
    "# 게임 오버 메시지 보이기\n",
    "def gameOver():\n",
    "    global gamePad"
   ]
  }
 ],
 "metadata": {
  "kernelspec": {
   "display_name": "Python 3 (ipykernel)",
   "language": "python",
   "name": "python3"
  },
  "language_info": {
   "codemirror_mode": {
    "name": "ipython",
    "version": 3
   },
   "file_extension": ".py",
   "mimetype": "text/x-python",
   "name": "python",
   "nbconvert_exporter": "python",
   "pygments_lexer": "ipython3",
   "version": "3.9.12"
  }
 },
 "nbformat": 4,
 "nbformat_minor": 5
}
